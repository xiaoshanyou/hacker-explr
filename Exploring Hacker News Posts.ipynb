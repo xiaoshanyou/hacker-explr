{
 "cells": [
  {
   "cell_type": "markdown",
   "metadata": {},
   "source": [
    "# Exploring Hacker News Posts"
   ]
  },
  {
   "cell_type": "markdown",
   "metadata": {},
   "source": [
    "Hacker News is a site where users can submit posts are voted and commented upon. Hacker News is very popular in technology and startup cicles, and posts that make it to the top of Hacker News' listings can get hundreds of thousands of visitors as a result. \n",
    "\n",
    "There are two types of posts that are important for this project: \"Ask HN\" and \"Show HN\". People submit \"Ask HN\" posts to ask Hacker News community a specific question. Likewise, users submit \"Shoe HN\" posts to show a project, product or something interesting. \n",
    "\n",
    "The purpose of this project is to compare these two types of posts and answer the following questions: \n",
    "1. Do \"Ask HN\" or \"Show HN\" receive more comments on average?\n",
    "2. Do posts created at a certain time receive more comments on average?"
   ]
  },
  {
   "cell_type": "code",
   "execution_count": 5,
   "metadata": {},
   "outputs": [
    {
     "name": "stdout",
     "output_type": "stream",
     "text": [
      "['id,title,url,num_points,num_comments,author,created_at\\r\\n', '12579008,You have two days to comment if you want stem cells to be classified as your own,http://www.regulations.gov/document?D=FDA-2015-D-3719-0018,1,0,altstar,9/26/2016 3:26\\r\\n', '12579005,SQLAR  the SQLite Archiver,https://www.sqlite.org/sqlar/doc/trunk/README.md,1,0,blacksqr,9/26/2016 3:24\\r\\n', '12578997,What if we just printed a flatscreen television on the side of our boxes?,https://medium.com/vanmoof/our-secrets-out-f21c1f03fdc8#.ietxmez43,1,0,pavel_lishin,9/26/2016 3:19\\r\\n', '12578989,algorithmic music,http://cacm.acm.org/magazines/2011/7/109891-algorithmic-composition/fulltext,1,0,poindontcare,9/26/2016 3:16\\r\\n']\n"
     ]
    }
   ],
   "source": [
    "import csv\n",
    "opened_file = open(\"HN_posts_year_to_Sep_26_2016.csv\")\n",
    "hn = list(opened_file)\n",
    "print(hn[:5])"
   ]
  },
  {
   "cell_type": "markdown",
   "metadata": {},
   "source": [
    "Remove the header row from hn."
   ]
  },
  {
   "cell_type": "code",
   "execution_count": 6,
   "metadata": {},
   "outputs": [
    {
     "name": "stdout",
     "output_type": "stream",
     "text": [
      "id,title,url,num_points,num_comments,author,created_at\r\n",
      "\n",
      "['12579008,You have two days to comment if you want stem cells to be classified as your own,http://www.regulations.gov/document?D=FDA-2015-D-3719-0018,1,0,altstar,9/26/2016 3:26\\r\\n', '12579005,SQLAR  the SQLite Archiver,https://www.sqlite.org/sqlar/doc/trunk/README.md,1,0,blacksqr,9/26/2016 3:24\\r\\n', '12578997,What if we just printed a flatscreen television on the side of our boxes?,https://medium.com/vanmoof/our-secrets-out-f21c1f03fdc8#.ietxmez43,1,0,pavel_lishin,9/26/2016 3:19\\r\\n', '12578989,algorithmic music,http://cacm.acm.org/magazines/2011/7/109891-algorithmic-composition/fulltext,1,0,poindontcare,9/26/2016 3:16\\r\\n', '12578979,How the Data Vault Enables the Next-Gen Data Warehouse and Data Lake,https://www.talend.com/blog/2016/05/12/talend-and-\\xc3\\x82\\xc2\\x93the-data-vault\\xc3\\x82\\xc2\\x94,1,0,markgainor1,9/26/2016 3:14\\r\\n']\n"
     ]
    }
   ],
   "source": [
    "headers = hn[0]\n",
    "hn = hn[1:]\n",
    "print(headers)\n",
    "print(hn[:5])"
   ]
  },
  {
   "cell_type": "code",
   "execution_count": 12,
   "metadata": {},
   "outputs": [
    {
     "name": "stdout",
     "output_type": "stream",
     "text": [
      "0\n",
      "0\n",
      "293119\n"
     ]
    }
   ],
   "source": [
    "ask_posts = []\n",
    "show_posts = []\n",
    "other_posts = []\n",
    "for row in hn:\n",
    "    title = hn[1]\n",
    "    if title.lower().startswith('ask hn'):\n",
    "        ask_posts.append(row)\n",
    "    elif title.lower().startswith('show hn'):\n",
    "        show_posts.append(row)\n",
    "    else:\n",
    "        other_posts.append(row)\n",
    "print(len(ask_posts))\n",
    "print(len(show_posts))\n",
    "print(len(other_posts))"
   ]
  },
  {
   "cell_type": "code",
   "execution_count": null,
   "metadata": {},
   "outputs": [],
   "source": []
  }
 ],
 "metadata": {
  "kernelspec": {
   "display_name": "Python 2",
   "language": "python",
   "name": "python2"
  },
  "language_info": {
   "codemirror_mode": {
    "name": "ipython",
    "version": 2
   },
   "file_extension": ".py",
   "mimetype": "text/x-python",
   "name": "python",
   "nbconvert_exporter": "python",
   "pygments_lexer": "ipython2",
   "version": "2.7.16"
  }
 },
 "nbformat": 4,
 "nbformat_minor": 2
}
